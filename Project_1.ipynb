{
 "cells": [
  {
   "cell_type": "markdown",
   "metadata": {},
   "source": [
    "## Final Project Submission\n",
    "***\n",
    "\n",
    "Please fill out:\n",
    "* Student name: Marife Ramoran\n",
    "* Student pace: \n",
    "* Scheduled project review date/time: 15th October 2023\n",
    "* Instructor name: Hardik Idnani\n",
    "* Blog post URL: \n"
   ]
  },
  {
   "cell_type": "markdown",
   "metadata": {},
   "source": [
    "## Overview\n",
    "***\n",
    "This project involves the analysis of data to fulfill Microsoft's objective of producing a highly successful movie. By conducting a descriptive examination of movies from the past century, we aim to identify recurring patterns that contribute to the formula for a blockbuster film. Microsoft can then leverage this analysis to track trends and understand the key factors behind the success of blockbuster movies."
   ]
  },
  {
   "cell_type": "markdown",
   "metadata": {},
   "source": [
    "## Business Problem\n",
    "***\n",
    "Microsoft has taken notice of major corporations venturing into the realm of producing unique video content, and they are eager to join the fray. As part of this endeavor, Microsoft has made the strategic decision to establish a brand-new film studio. However, they currently lack expertise in the field of filmmaking. Your role involves conducting research to identify the most successful film genres currently dominating the box office. Subsequently, you will be tasked with transforming this research into practical recommendations that can guide the head of Microsoft's newly established movie studio in making informed decisions about the types of films to produce."
   ]
  },
  {
   "cell_type": "markdown",
   "metadata": {},
   "source": [
    "![clapper](clapper.gif)\n"
   ]
  },
  {
   "cell_type": "code",
   "execution_count": 210,
   "metadata": {},
   "outputs": [],
   "source": [
    "# Import library\n",
    "import pandas as pd\n",
    "import numpy as np\n",
    "import seaborn as sns\n",
    "import matplotlib.pyplot as plt\n",
    "\n",
    "%matplotlib inline"
   ]
  },
  {
   "cell_type": "code",
   "execution_count": 211,
   "metadata": {},
   "outputs": [],
   "source": [
    "# You can execute your code here to investigate the data.\n",
    "title_basic_df = pd.read_csv('./zippedData/imdb.title.basics.csv.gz')\n",
    "movie_budget_df = pd.read_csv('./zippedData/tn.movie_budgets.csv.gz')\n",
    "title_rating_df = pd.read_csv('./zippedData/imdb.title.ratings.csv.gz')\n",
    "bom_movie_gross_df = pd.read_csv('./zippedData/bom.movie_gross.csv.gz')"
   ]
  },
  {
   "cell_type": "markdown",
   "metadata": {},
   "source": [
    "## Data Preparation\n",
    "Explain and provide details of the procedure taken to get the data ready for analysis.\n",
    "***\n",
    "\n",
    "### Questions:\n",
    "1. How did you resolve missing values or outliers?\n",
    "2. Did you eliminate or introduce any variables?\n",
    "3. Why do these selections align with the data and the business issue at hand?\n",
    "\n"
   ]
  },
  {
   "cell_type": "code",
   "execution_count": 212,
   "metadata": {},
   "outputs": [],
   "source": [
    "# Run this code to clean the data\n",
    "rating_basic_df = pd.merge(title_basic_df, title_rating_df,on = ['tconst'] ,how = 'inner')"
   ]
  },
  {
   "cell_type": "code",
   "execution_count": 213,
   "metadata": {},
   "outputs": [
    {
     "data": {
      "text/plain": [
       "tconst                0\n",
       "primary_title         0\n",
       "original_title        0\n",
       "start_year            0\n",
       "runtime_minutes    7620\n",
       "genres              804\n",
       "averagerating         0\n",
       "numvotes              0\n",
       "dtype: int64"
      ]
     },
     "execution_count": 213,
     "metadata": {},
     "output_type": "execute_result"
    }
   ],
   "source": [
    "# Run this code to identify how many datas are missing on rating_basic_df\n",
    "rating_basic_df.isna().sum()"
   ]
  },
  {
   "cell_type": "code",
   "execution_count": 214,
   "metadata": {},
   "outputs": [],
   "source": [
    "# I will create a new DataFrame variable to display the outcome.\n",
    "rating_basic_filled_df = rating_basic_df"
   ]
  },
  {
   "cell_type": "code",
   "execution_count": 215,
   "metadata": {},
   "outputs": [],
   "source": [
    "# I need to convert the data type to a float so that I can perform numerical operations on it.\n",
    "rating_basic_filled_df['runtime_minutes'] = pd.to_numeric(rating_basic_filled_df['runtime_minutes'])"
   ]
  },
  {
   "cell_type": "code",
   "execution_count": 216,
   "metadata": {},
   "outputs": [],
   "source": [
    "# Now that the data is in a format I can work with, I will replace the missing values in the `runtime_m` column with its median.\n",
    "rating_basic_filled_df['runtime_minutes'] = rating_basic_df['runtime_minutes'].fillna(rating_basic_df['runtime_minutes'].median())"
   ]
  },
  {
   "cell_type": "code",
   "execution_count": 217,
   "metadata": {},
   "outputs": [],
   "source": [
    "# I am renaming the 'primary_title' column in the `rating_basic_filled_df` DataFrame to 'title' to facilitate its merging with another dataset.\n",
    "rating_basic_filled_df.rename(columns = {'primary_title':'title'}, inplace= True)"
   ]
  },
  {
   "cell_type": "markdown",
   "metadata": {},
   "source": [
    "## Data Merging\n",
    "***"
   ]
  },
  {
   "cell_type": "code",
   "execution_count": 218,
   "metadata": {},
   "outputs": [],
   "source": [
    "# We can begin by merging the bom_movie_gross_df and movie_budget_df datasets, but before doing so, we should first rename them.\n",
    "movie_budget_df.rename(columns = {'movie':'title'}, inplace = True)\n",
    "movie_gross_budget_df = pd.merge(bom_movie_gross_df, movie_budget_df, on = ['title'] ,how = 'inner')\n",
    "merged_df = pd.merge(movie_gross_budget_df, rating_basic_filled_df, on = ['title'], how = 'inner')"
   ]
  },
  {
   "cell_type": "code",
   "execution_count": 219,
   "metadata": {},
   "outputs": [],
   "source": [
    "# I want to remove any duplicates that share the same title and release date while retaining at least one of them.\n",
    "merged_df = merged_df.drop_duplicates(subset= ['title', 'release_date'], keep = 'first')"
   ]
  },
  {
   "cell_type": "code",
   "execution_count": 220,
   "metadata": {
    "scrolled": true
   },
   "outputs": [
    {
     "data": {
      "text/html": [
       "<div>\n",
       "<style scoped>\n",
       "    .dataframe tbody tr th:only-of-type {\n",
       "        vertical-align: middle;\n",
       "    }\n",
       "\n",
       "    .dataframe tbody tr th {\n",
       "        vertical-align: top;\n",
       "    }\n",
       "\n",
       "    .dataframe thead th {\n",
       "        text-align: right;\n",
       "    }\n",
       "</style>\n",
       "<table border=\"1\" class=\"dataframe\">\n",
       "  <thead>\n",
       "    <tr style=\"text-align: right;\">\n",
       "      <th></th>\n",
       "      <th>title</th>\n",
       "      <th>studio</th>\n",
       "      <th>domestic_gross_x</th>\n",
       "      <th>foreign_gross</th>\n",
       "      <th>year</th>\n",
       "      <th>id</th>\n",
       "      <th>release_date</th>\n",
       "      <th>production_budget</th>\n",
       "      <th>domestic_gross_y</th>\n",
       "      <th>worldwide_gross</th>\n",
       "      <th>tconst</th>\n",
       "      <th>original_title</th>\n",
       "      <th>start_year</th>\n",
       "      <th>runtime_minutes</th>\n",
       "      <th>genres</th>\n",
       "      <th>averagerating</th>\n",
       "      <th>numvotes</th>\n",
       "    </tr>\n",
       "  </thead>\n",
       "  <tbody>\n",
       "    <tr>\n",
       "      <th>1302</th>\n",
       "      <td>Avengers: Infinity War</td>\n",
       "      <td>BV</td>\n",
       "      <td>678800000.0</td>\n",
       "      <td>1,369.5</td>\n",
       "      <td>2018</td>\n",
       "      <td>7</td>\n",
       "      <td>Apr 27, 2018</td>\n",
       "      <td>$300,000,000</td>\n",
       "      <td>$678,815,482</td>\n",
       "      <td>$2,048,134,200</td>\n",
       "      <td>tt4154756</td>\n",
       "      <td>Avengers: Infinity War</td>\n",
       "      <td>2018</td>\n",
       "      <td>149.0</td>\n",
       "      <td>Action,Adventure,Sci-Fi</td>\n",
       "      <td>8.5</td>\n",
       "      <td>670926</td>\n",
       "    </tr>\n",
       "  </tbody>\n",
       "</table>\n",
       "</div>"
      ],
      "text/plain": [
       "                       title studio  domestic_gross_x foreign_gross  year  id  \\\n",
       "1302  Avengers: Infinity War     BV       678800000.0       1,369.5  2018   7   \n",
       "\n",
       "      release_date production_budget domestic_gross_y worldwide_gross  \\\n",
       "1302  Apr 27, 2018      $300,000,000     $678,815,482  $2,048,134,200   \n",
       "\n",
       "         tconst          original_title  start_year  runtime_minutes  \\\n",
       "1302  tt4154756  Avengers: Infinity War        2018            149.0   \n",
       "\n",
       "                       genres  averagerating  numvotes  \n",
       "1302  Action,Adventure,Sci-Fi            8.5    670926  "
      ]
     },
     "execution_count": 220,
     "metadata": {},
     "output_type": "execute_result"
    }
   ],
   "source": [
    "# This error appeared as an issue that requires resolution before we can proceed with converting the foreign_gross into an int\n",
    "merged_df[merged_df['foreign_gross'] == '1,019.4']\n",
    "merged_df[merged_df['foreign_gross'] == '1,163.0']\n",
    "merged_df[merged_df['foreign_gross'] == '1,010.0']\n",
    "merged_df[merged_df['foreign_gross'] == '1,369.5']"
   ]
  },
  {
   "cell_type": "code",
   "execution_count": 221,
   "metadata": {},
   "outputs": [
    {
     "name": "stderr",
     "output_type": "stream",
     "text": [
      "/var/folders/zr/m5b0ldvs7695p_h8w70ndwc40000gn/T/ipykernel_1736/3024590889.py:3: SettingWithCopyWarning: \n",
      "A value is trying to be set on a copy of a slice from a DataFrame\n",
      "\n",
      "See the caveats in the documentation: https://pandas.pydata.org/pandas-docs/stable/user_guide/indexing.html#returning-a-view-versus-a-copy\n",
      "  merged_df['foreign_gross'][825] = '1163000000'\n",
      "/var/folders/zr/m5b0ldvs7695p_h8w70ndwc40000gn/T/ipykernel_1736/3024590889.py:4: SettingWithCopyWarning: \n",
      "A value is trying to be set on a copy of a slice from a DataFrame\n",
      "\n",
      "See the caveats in the documentation: https://pandas.pydata.org/pandas-docs/stable/user_guide/indexing.html#returning-a-view-versus-a-copy\n",
      "  merged_df['foreign_gross'][1170] = '1010000000'\n",
      "/var/folders/zr/m5b0ldvs7695p_h8w70ndwc40000gn/T/ipykernel_1736/3024590889.py:5: SettingWithCopyWarning: \n",
      "A value is trying to be set on a copy of a slice from a DataFrame\n",
      "\n",
      "See the caveats in the documentation: https://pandas.pydata.org/pandas-docs/stable/user_guide/indexing.html#returning-a-view-versus-a-copy\n",
      "  merged_df['foreign_gross'][1302] = '1369500000'\n"
     ]
    }
   ],
   "source": [
    "\n",
    "# Now we need to address and resolve the error\n",
    "merged_df['foreign_gross'][824] = '1017600000'\n",
    "merged_df['foreign_gross'][825] = '1163000000'\n",
    "merged_df['foreign_gross'][1170] = '1010000000'\n",
    "merged_df['foreign_gross'][1302] = '1369500000'\n"
   ]
  },
  {
   "cell_type": "code",
   "execution_count": 222,
   "metadata": {},
   "outputs": [],
   "source": [
    "\n",
    "# Now, it's possible to modify the data type of the 'foreign_gross' column to int\n",
    "merged_df['foreign_gross'] = pd.to_numeric(merged_df['foreign_gross'])"
   ]
  },
  {
   "cell_type": "code",
   "execution_count": 223,
   "metadata": {},
   "outputs": [],
   "source": [
    "# As certain foreign gross data was absent, I filled it using the median value from movies produced in the last century.\n",
    "merged_df['foreign_gross'] = merged_df['foreign_gross'].fillna(value = merged_df['foreign_gross'].median())"
   ]
  },
  {
   "cell_type": "markdown",
   "metadata": {},
   "source": [
    "## Data Cleaning\n",
    "***"
   ]
  },
  {
   "cell_type": "code",
   "execution_count": 224,
   "metadata": {},
   "outputs": [],
   "source": [
    "# I would like to eliminate the comma with the genre\n",
    "def split_comma(x):\n",
    "    return x.split(\",\")"
   ]
  },
  {
   "cell_type": "code",
   "execution_count": 225,
   "metadata": {},
   "outputs": [
    {
     "data": {
      "text/plain": [
       "1"
      ]
     },
     "execution_count": 225,
     "metadata": {},
     "output_type": "execute_result"
    }
   ],
   "source": [
    "# I need to determine whether there is any missing data in the genres column\n",
    "merged_df['genres'].isna().sum()"
   ]
  },
  {
   "cell_type": "code",
   "execution_count": 226,
   "metadata": {},
   "outputs": [],
   "source": [
    "# I have identified 1 missing data where we can choose between dropping it or filling it\n",
    "# In this scenario, I have filled it with \"missing\" since it should have minimal impact on the overall data\n",
    "merged_df['genres'] = merged_df['genres'].fillna (value = 'missing')"
   ]
  },
  {
   "cell_type": "code",
   "execution_count": 227,
   "metadata": {},
   "outputs": [],
   "source": [
    "# In here, I am using the map method to remove the comma\n",
    "merged_df['genres'] = merged_df ['genres'].map(split_comma)"
   ]
  },
  {
   "cell_type": "code",
   "execution_count": 228,
   "metadata": {},
   "outputs": [],
   "source": [
    "# I am defining another function to remove the dollar sign and commas from the production_budget\n",
    "def remove_dollar_comma(x):\n",
    "    x = x.replace(\",\" , \"\")\n",
    "    return x.replace(\"$\", \"\")"
   ]
  },
  {
   "cell_type": "code",
   "execution_count": 229,
   "metadata": {},
   "outputs": [],
   "source": [
    "# Using the new function that was created, we can now proceed with converting the data type to int\n",
    "merged_df['production_budget'] = merged_df['production_budget'].map(remove_dollar_comma)"
   ]
  },
  {
   "cell_type": "code",
   "execution_count": 230,
   "metadata": {},
   "outputs": [],
   "source": [
    "# We can now change the type of column production_budget to int\n",
    "merged_df['production_budget'] = pd.to_numeric(merged_df['production_budget'])"
   ]
  },
  {
   "cell_type": "markdown",
   "metadata": {},
   "source": [
    "## Feature Engineering\n",
    "***"
   ]
  },
  {
   "cell_type": "code",
   "execution_count": 231,
   "metadata": {},
   "outputs": [
    {
     "data": {
      "text/html": [
       "<div>\n",
       "<style scoped>\n",
       "    .dataframe tbody tr th:only-of-type {\n",
       "        vertical-align: middle;\n",
       "    }\n",
       "\n",
       "    .dataframe tbody tr th {\n",
       "        vertical-align: top;\n",
       "    }\n",
       "\n",
       "    .dataframe thead th {\n",
       "        text-align: right;\n",
       "    }\n",
       "</style>\n",
       "<table border=\"1\" class=\"dataframe\">\n",
       "  <thead>\n",
       "    <tr style=\"text-align: right;\">\n",
       "      <th></th>\n",
       "      <th>title</th>\n",
       "      <th>studio</th>\n",
       "      <th>domestic_gross_x</th>\n",
       "      <th>foreign_gross</th>\n",
       "      <th>year</th>\n",
       "      <th>id</th>\n",
       "      <th>release_date</th>\n",
       "      <th>production_budget</th>\n",
       "      <th>domestic_gross_y</th>\n",
       "      <th>tconst</th>\n",
       "      <th>original_title</th>\n",
       "      <th>start_year</th>\n",
       "      <th>runtime_minutes</th>\n",
       "      <th>genres</th>\n",
       "      <th>averagerating</th>\n",
       "      <th>numvotes</th>\n",
       "    </tr>\n",
       "  </thead>\n",
       "  <tbody>\n",
       "    <tr>\n",
       "      <th>0</th>\n",
       "      <td>Toy Story 3</td>\n",
       "      <td>BV</td>\n",
       "      <td>415000000.0</td>\n",
       "      <td>652000000.0</td>\n",
       "      <td>2010</td>\n",
       "      <td>47</td>\n",
       "      <td>Jun 18, 2010</td>\n",
       "      <td>200000000</td>\n",
       "      <td>$415,004,880</td>\n",
       "      <td>tt0435761</td>\n",
       "      <td>Toy Story 3</td>\n",
       "      <td>2010</td>\n",
       "      <td>103.0</td>\n",
       "      <td>[Adventure, Animation, Comedy]</td>\n",
       "      <td>8.3</td>\n",
       "      <td>682218</td>\n",
       "    </tr>\n",
       "    <tr>\n",
       "      <th>1</th>\n",
       "      <td>Inception</td>\n",
       "      <td>WB</td>\n",
       "      <td>292600000.0</td>\n",
       "      <td>535700000.0</td>\n",
       "      <td>2010</td>\n",
       "      <td>38</td>\n",
       "      <td>Jul 16, 2010</td>\n",
       "      <td>160000000</td>\n",
       "      <td>$292,576,195</td>\n",
       "      <td>tt1375666</td>\n",
       "      <td>Inception</td>\n",
       "      <td>2010</td>\n",
       "      <td>148.0</td>\n",
       "      <td>[Action, Adventure, Sci-Fi]</td>\n",
       "      <td>8.8</td>\n",
       "      <td>1841066</td>\n",
       "    </tr>\n",
       "    <tr>\n",
       "      <th>2</th>\n",
       "      <td>Shrek Forever After</td>\n",
       "      <td>P/DW</td>\n",
       "      <td>238700000.0</td>\n",
       "      <td>513900000.0</td>\n",
       "      <td>2010</td>\n",
       "      <td>27</td>\n",
       "      <td>May 21, 2010</td>\n",
       "      <td>165000000</td>\n",
       "      <td>$238,736,787</td>\n",
       "      <td>tt0892791</td>\n",
       "      <td>Shrek Forever After</td>\n",
       "      <td>2010</td>\n",
       "      <td>93.0</td>\n",
       "      <td>[Adventure, Animation, Comedy]</td>\n",
       "      <td>6.3</td>\n",
       "      <td>167532</td>\n",
       "    </tr>\n",
       "    <tr>\n",
       "      <th>3</th>\n",
       "      <td>The Twilight Saga: Eclipse</td>\n",
       "      <td>Sum.</td>\n",
       "      <td>300500000.0</td>\n",
       "      <td>398000000.0</td>\n",
       "      <td>2010</td>\n",
       "      <td>53</td>\n",
       "      <td>Jun 30, 2010</td>\n",
       "      <td>68000000</td>\n",
       "      <td>$300,531,751</td>\n",
       "      <td>tt1325004</td>\n",
       "      <td>The Twilight Saga: Eclipse</td>\n",
       "      <td>2010</td>\n",
       "      <td>124.0</td>\n",
       "      <td>[Adventure, Drama, Fantasy]</td>\n",
       "      <td>5.0</td>\n",
       "      <td>211733</td>\n",
       "    </tr>\n",
       "    <tr>\n",
       "      <th>4</th>\n",
       "      <td>Iron Man 2</td>\n",
       "      <td>Par.</td>\n",
       "      <td>312400000.0</td>\n",
       "      <td>311500000.0</td>\n",
       "      <td>2010</td>\n",
       "      <td>15</td>\n",
       "      <td>May 7, 2010</td>\n",
       "      <td>170000000</td>\n",
       "      <td>$312,433,331</td>\n",
       "      <td>tt1228705</td>\n",
       "      <td>Iron Man 2</td>\n",
       "      <td>2010</td>\n",
       "      <td>124.0</td>\n",
       "      <td>[Action, Adventure, Sci-Fi]</td>\n",
       "      <td>7.0</td>\n",
       "      <td>657690</td>\n",
       "    </tr>\n",
       "    <tr>\n",
       "      <th>...</th>\n",
       "      <td>...</td>\n",
       "      <td>...</td>\n",
       "      <td>...</td>\n",
       "      <td>...</td>\n",
       "      <td>...</td>\n",
       "      <td>...</td>\n",
       "      <td>...</td>\n",
       "      <td>...</td>\n",
       "      <td>...</td>\n",
       "      <td>...</td>\n",
       "      <td>...</td>\n",
       "      <td>...</td>\n",
       "      <td>...</td>\n",
       "      <td>...</td>\n",
       "      <td>...</td>\n",
       "      <td>...</td>\n",
       "    </tr>\n",
       "    <tr>\n",
       "      <th>1407</th>\n",
       "      <td>Destroyer</td>\n",
       "      <td>Annapurna</td>\n",
       "      <td>1500000.0</td>\n",
       "      <td>4000000.0</td>\n",
       "      <td>2018</td>\n",
       "      <td>5</td>\n",
       "      <td>Dec 25, 2018</td>\n",
       "      <td>9000000</td>\n",
       "      <td>$1,533,324</td>\n",
       "      <td>tt7137380</td>\n",
       "      <td>Destroyer</td>\n",
       "      <td>2018</td>\n",
       "      <td>121.0</td>\n",
       "      <td>[Action, Crime, Drama]</td>\n",
       "      <td>6.2</td>\n",
       "      <td>13683</td>\n",
       "    </tr>\n",
       "    <tr>\n",
       "      <th>1408</th>\n",
       "      <td>Gotti</td>\n",
       "      <td>VE</td>\n",
       "      <td>4300000.0</td>\n",
       "      <td>43000000.0</td>\n",
       "      <td>2018</td>\n",
       "      <td>64</td>\n",
       "      <td>Jun 15, 2018</td>\n",
       "      <td>10000000</td>\n",
       "      <td>$4,286,367</td>\n",
       "      <td>tt1801552</td>\n",
       "      <td>Gotti</td>\n",
       "      <td>2018</td>\n",
       "      <td>112.0</td>\n",
       "      <td>[Biography, Crime, Drama]</td>\n",
       "      <td>4.8</td>\n",
       "      <td>10358</td>\n",
       "    </tr>\n",
       "    <tr>\n",
       "      <th>1409</th>\n",
       "      <td>Bilal: A New Breed of Hero</td>\n",
       "      <td>VE</td>\n",
       "      <td>491000.0</td>\n",
       "      <td>1700000.0</td>\n",
       "      <td>2018</td>\n",
       "      <td>100</td>\n",
       "      <td>Feb 2, 2018</td>\n",
       "      <td>30000000</td>\n",
       "      <td>$490,973</td>\n",
       "      <td>tt3576728</td>\n",
       "      <td>Bilal: A New Breed of Hero</td>\n",
       "      <td>2015</td>\n",
       "      <td>105.0</td>\n",
       "      <td>[Action, Adventure, Animation]</td>\n",
       "      <td>8.0</td>\n",
       "      <td>16854</td>\n",
       "    </tr>\n",
       "    <tr>\n",
       "      <th>1410</th>\n",
       "      <td>Mandy</td>\n",
       "      <td>RLJ</td>\n",
       "      <td>1200000.0</td>\n",
       "      <td>43000000.0</td>\n",
       "      <td>2018</td>\n",
       "      <td>71</td>\n",
       "      <td>Sep 14, 2018</td>\n",
       "      <td>6000000</td>\n",
       "      <td>$1,214,525</td>\n",
       "      <td>tt4995858</td>\n",
       "      <td>Mandy</td>\n",
       "      <td>2016</td>\n",
       "      <td>113.0</td>\n",
       "      <td>[Drama, Thriller]</td>\n",
       "      <td>4.1</td>\n",
       "      <td>39</td>\n",
       "    </tr>\n",
       "    <tr>\n",
       "      <th>1412</th>\n",
       "      <td>Lean on Pete</td>\n",
       "      <td>A24</td>\n",
       "      <td>1200000.0</td>\n",
       "      <td>43000000.0</td>\n",
       "      <td>2018</td>\n",
       "      <td>13</td>\n",
       "      <td>Apr 6, 2018</td>\n",
       "      <td>8000000</td>\n",
       "      <td>$1,163,056</td>\n",
       "      <td>tt5340300</td>\n",
       "      <td>Lean on Pete</td>\n",
       "      <td>2017</td>\n",
       "      <td>121.0</td>\n",
       "      <td>[Adventure, Drama]</td>\n",
       "      <td>7.2</td>\n",
       "      <td>8607</td>\n",
       "    </tr>\n",
       "  </tbody>\n",
       "</table>\n",
       "<p>1166 rows × 16 columns</p>\n",
       "</div>"
      ],
      "text/plain": [
       "                           title     studio  domestic_gross_x  foreign_gross  \\\n",
       "0                    Toy Story 3         BV       415000000.0    652000000.0   \n",
       "1                      Inception         WB       292600000.0    535700000.0   \n",
       "2            Shrek Forever After       P/DW       238700000.0    513900000.0   \n",
       "3     The Twilight Saga: Eclipse       Sum.       300500000.0    398000000.0   \n",
       "4                     Iron Man 2       Par.       312400000.0    311500000.0   \n",
       "...                          ...        ...               ...            ...   \n",
       "1407                   Destroyer  Annapurna         1500000.0      4000000.0   \n",
       "1408                       Gotti         VE         4300000.0     43000000.0   \n",
       "1409  Bilal: A New Breed of Hero         VE          491000.0      1700000.0   \n",
       "1410                       Mandy        RLJ         1200000.0     43000000.0   \n",
       "1412                Lean on Pete        A24         1200000.0     43000000.0   \n",
       "\n",
       "      year   id  release_date  production_budget domestic_gross_y     tconst  \\\n",
       "0     2010   47  Jun 18, 2010          200000000     $415,004,880  tt0435761   \n",
       "1     2010   38  Jul 16, 2010          160000000     $292,576,195  tt1375666   \n",
       "2     2010   27  May 21, 2010          165000000     $238,736,787  tt0892791   \n",
       "3     2010   53  Jun 30, 2010           68000000     $300,531,751  tt1325004   \n",
       "4     2010   15   May 7, 2010          170000000     $312,433,331  tt1228705   \n",
       "...    ...  ...           ...                ...              ...        ...   \n",
       "1407  2018    5  Dec 25, 2018            9000000       $1,533,324  tt7137380   \n",
       "1408  2018   64  Jun 15, 2018           10000000       $4,286,367  tt1801552   \n",
       "1409  2018  100   Feb 2, 2018           30000000         $490,973  tt3576728   \n",
       "1410  2018   71  Sep 14, 2018            6000000       $1,214,525  tt4995858   \n",
       "1412  2018   13   Apr 6, 2018            8000000       $1,163,056  tt5340300   \n",
       "\n",
       "                  original_title  start_year  runtime_minutes  \\\n",
       "0                    Toy Story 3        2010            103.0   \n",
       "1                      Inception        2010            148.0   \n",
       "2            Shrek Forever After        2010             93.0   \n",
       "3     The Twilight Saga: Eclipse        2010            124.0   \n",
       "4                     Iron Man 2        2010            124.0   \n",
       "...                          ...         ...              ...   \n",
       "1407                   Destroyer        2018            121.0   \n",
       "1408                       Gotti        2018            112.0   \n",
       "1409  Bilal: A New Breed of Hero        2015            105.0   \n",
       "1410                       Mandy        2016            113.0   \n",
       "1412                Lean on Pete        2017            121.0   \n",
       "\n",
       "                              genres  averagerating  numvotes  \n",
       "0     [Adventure, Animation, Comedy]            8.3    682218  \n",
       "1        [Action, Adventure, Sci-Fi]            8.8   1841066  \n",
       "2     [Adventure, Animation, Comedy]            6.3    167532  \n",
       "3        [Adventure, Drama, Fantasy]            5.0    211733  \n",
       "4        [Action, Adventure, Sci-Fi]            7.0    657690  \n",
       "...                              ...            ...       ...  \n",
       "1407          [Action, Crime, Drama]            6.2     13683  \n",
       "1408       [Biography, Crime, Drama]            4.8     10358  \n",
       "1409  [Action, Adventure, Animation]            8.0     16854  \n",
       "1410               [Drama, Thriller]            4.1        39  \n",
       "1412              [Adventure, Drama]            7.2      8607  \n",
       "\n",
       "[1166 rows x 16 columns]"
      ]
     },
     "execution_count": 231,
     "metadata": {},
     "output_type": "execute_result"
    }
   ],
   "source": [
    "# I intend to remove the existing 'worldwide_gross' column\n",
    "# then create a new one to be accurate especially in cases where there might be missing values\n",
    "# This will produce consistent data\n",
    "merged_df.drop(\"worldwide_gross\", axis = 1)"
   ]
  },
  {
   "cell_type": "code",
   "execution_count": 232,
   "metadata": {},
   "outputs": [],
   "source": [
    "# I want to calculate the global earnings and place them in a new column labeled 'worldwide_gross'\n",
    "# This represents the total of both 'domestic_gross' and 'foreign_gross'\n",
    "merged_df['worldwide_gross'] = merged_df['domestic_gross_x'] + merged_df['foreign_gross']"
   ]
  },
  {
   "cell_type": "code",
   "execution_count": 233,
   "metadata": {},
   "outputs": [],
   "source": [
    "# I want to create a new column that is called 'blockbuster' that will output True or False\n",
    "# A straightforward criterion for this would be if the overall budget, \n",
    "# contains all expenses from production to marketing, qualifies the movie as a success.\n",
    "merged_df['blockbuster'] = (merged_df['worldwide_gross']) >= (2 * merged_df['production_budget'])"
   ]
  },
  {
   "cell_type": "code",
   "execution_count": 234,
   "metadata": {},
   "outputs": [],
   "source": [
    "# I want to refine the selection to include only the movies classified as blockbustes\n",
    "# then arrange them based on their global earnings\n",
    "blockbusters_df = merged_df[merged_df['blockbuster'] == True]\n",
    "blockbusters_sort_df = blockbusters_df.sort_values(['worldwide_gross'], ascending = False)"
   ]
  },
  {
   "cell_type": "code",
   "execution_count": 235,
   "metadata": {},
   "outputs": [],
   "source": [
    "# Now I want to identify who made the top 10 studios that have produced the highest number of box office successes\n",
    "top_studios = blockbusters_sort_df['studio'].value_counts().head(10)"
   ]
  },
  {
   "cell_type": "code",
   "execution_count": 236,
   "metadata": {},
   "outputs": [],
   "source": [
    "# I would like to determine the most prevalent combinations of genres among all the blockbuster movies\n",
    "top_genres = blockbusters_sort_df['genres'].value_counts().head(10)"
   ]
  },
  {
   "cell_type": "code",
   "execution_count": 237,
   "metadata": {},
   "outputs": [],
   "source": [
    "# I want to split the genres using explode method\n",
    "top_genres = blockbusters_sort_df.explode('genres')"
   ]
  },
  {
   "cell_type": "code",
   "execution_count": 238,
   "metadata": {},
   "outputs": [],
   "source": [
    "# I want to identify the films that generated the highest earnings.\n",
    "top_10_num = blockbusters_sort_df.head(10).drop(['year','release_date', 'blockbuster', 'averagerating','genres', 'domestic_gross_y','tconst','original_title','start_year','id', 'year'], axis=1)"
   ]
  },
  {
   "cell_type": "code",
   "execution_count": 239,
   "metadata": {},
   "outputs": [],
   "source": [
    "# Here I want to sort the production budget of the top 10 box office hits in descending order\n",
    "top_10_num_sorted = top_10_num.sort_values(by='production_budget', ascending=False)"
   ]
  },
  {
   "cell_type": "markdown",
   "metadata": {},
   "source": [
    "## Data Modelling\n",
    "Explain and provide a rationale for the procedure employed in analyzing or constructing data models.\n",
    "***\n",
    "### Questions:\n",
    "\n",
    "1. What methods were employed for data analysis or modeling?\n",
    "2. How was the initial approach refined through iterations to enhance its effectiveness?\n",
    "3.  How can these choices be justified in light of the data and the business problem at hand?"
   ]
  },
  {
   "cell_type": "code",
   "execution_count": 240,
   "metadata": {},
   "outputs": [],
   "source": [
    "# Run the code to model the data\n",
    "colors = ['navy', 'indigo', 'crimson', 'peru', 'silver', 'teal', 'olive', 'orchid', 'gray', 'magenta']"
   ]
  },
  {
   "cell_type": "code",
   "execution_count": 241,
   "metadata": {},
   "outputs": [
    {
     "data": {
      "text/html": [
       "<div>\n",
       "<style scoped>\n",
       "    .dataframe tbody tr th:only-of-type {\n",
       "        vertical-align: middle;\n",
       "    }\n",
       "\n",
       "    .dataframe tbody tr th {\n",
       "        vertical-align: top;\n",
       "    }\n",
       "\n",
       "    .dataframe thead th {\n",
       "        text-align: right;\n",
       "    }\n",
       "</style>\n",
       "<table border=\"1\" class=\"dataframe\">\n",
       "  <thead>\n",
       "    <tr style=\"text-align: right;\">\n",
       "      <th></th>\n",
       "      <th>title</th>\n",
       "      <th>studio</th>\n",
       "      <th>domestic_gross_x</th>\n",
       "      <th>foreign_gross</th>\n",
       "      <th>production_budget</th>\n",
       "      <th>worldwide_gross</th>\n",
       "      <th>runtime_minutes</th>\n",
       "      <th>numvotes</th>\n",
       "    </tr>\n",
       "  </thead>\n",
       "  <tbody>\n",
       "    <tr>\n",
       "      <th>1302</th>\n",
       "      <td>Avengers: Infinity War</td>\n",
       "      <td>BV</td>\n",
       "      <td>678800000.0</td>\n",
       "      <td>1.369500e+09</td>\n",
       "      <td>300000000</td>\n",
       "      <td>2.048300e+09</td>\n",
       "      <td>149.0</td>\n",
       "      <td>670926</td>\n",
       "    </tr>\n",
       "    <tr>\n",
       "      <th>824</th>\n",
       "      <td>Jurassic World</td>\n",
       "      <td>Uni.</td>\n",
       "      <td>652300000.0</td>\n",
       "      <td>1.017600e+09</td>\n",
       "      <td>215000000</td>\n",
       "      <td>1.669900e+09</td>\n",
       "      <td>124.0</td>\n",
       "      <td>539338</td>\n",
       "    </tr>\n",
       "    <tr>\n",
       "      <th>825</th>\n",
       "      <td>Furious 7</td>\n",
       "      <td>Uni.</td>\n",
       "      <td>353000000.0</td>\n",
       "      <td>1.163000e+09</td>\n",
       "      <td>190000000</td>\n",
       "      <td>1.516000e+09</td>\n",
       "      <td>137.0</td>\n",
       "      <td>335074</td>\n",
       "    </tr>\n",
       "    <tr>\n",
       "      <th>826</th>\n",
       "      <td>Avengers: Age of Ultron</td>\n",
       "      <td>BV</td>\n",
       "      <td>459000000.0</td>\n",
       "      <td>9.464000e+08</td>\n",
       "      <td>330600000</td>\n",
       "      <td>1.405400e+09</td>\n",
       "      <td>141.0</td>\n",
       "      <td>665594</td>\n",
       "    </tr>\n",
       "    <tr>\n",
       "      <th>1303</th>\n",
       "      <td>Black Panther</td>\n",
       "      <td>BV</td>\n",
       "      <td>700100000.0</td>\n",
       "      <td>6.469000e+08</td>\n",
       "      <td>200000000</td>\n",
       "      <td>1.347000e+09</td>\n",
       "      <td>134.0</td>\n",
       "      <td>516148</td>\n",
       "    </tr>\n",
       "    <tr>\n",
       "      <th>1304</th>\n",
       "      <td>Jurassic World: Fallen Kingdom</td>\n",
       "      <td>Uni.</td>\n",
       "      <td>417700000.0</td>\n",
       "      <td>8.918000e+08</td>\n",
       "      <td>170000000</td>\n",
       "      <td>1.309500e+09</td>\n",
       "      <td>128.0</td>\n",
       "      <td>219125</td>\n",
       "    </tr>\n",
       "    <tr>\n",
       "      <th>520</th>\n",
       "      <td>Frozen</td>\n",
       "      <td>BV</td>\n",
       "      <td>400700000.0</td>\n",
       "      <td>8.757000e+08</td>\n",
       "      <td>150000000</td>\n",
       "      <td>1.276400e+09</td>\n",
       "      <td>93.0</td>\n",
       "      <td>62311</td>\n",
       "    </tr>\n",
       "    <tr>\n",
       "      <th>1305</th>\n",
       "      <td>Incredibles 2</td>\n",
       "      <td>BV</td>\n",
       "      <td>608600000.0</td>\n",
       "      <td>6.342000e+08</td>\n",
       "      <td>200000000</td>\n",
       "      <td>1.242800e+09</td>\n",
       "      <td>118.0</td>\n",
       "      <td>203510</td>\n",
       "    </tr>\n",
       "    <tr>\n",
       "      <th>1170</th>\n",
       "      <td>The Fate of the Furious</td>\n",
       "      <td>Uni.</td>\n",
       "      <td>226000000.0</td>\n",
       "      <td>1.010000e+09</td>\n",
       "      <td>250000000</td>\n",
       "      <td>1.236000e+09</td>\n",
       "      <td>136.0</td>\n",
       "      <td>179774</td>\n",
       "    </tr>\n",
       "    <tr>\n",
       "      <th>523</th>\n",
       "      <td>Iron Man 3</td>\n",
       "      <td>BV</td>\n",
       "      <td>409000000.0</td>\n",
       "      <td>8.058000e+08</td>\n",
       "      <td>200000000</td>\n",
       "      <td>1.214800e+09</td>\n",
       "      <td>130.0</td>\n",
       "      <td>692794</td>\n",
       "    </tr>\n",
       "  </tbody>\n",
       "</table>\n",
       "</div>"
      ],
      "text/plain": [
       "                               title studio  domestic_gross_x  foreign_gross  \\\n",
       "1302          Avengers: Infinity War     BV       678800000.0   1.369500e+09   \n",
       "824                   Jurassic World   Uni.       652300000.0   1.017600e+09   \n",
       "825                        Furious 7   Uni.       353000000.0   1.163000e+09   \n",
       "826          Avengers: Age of Ultron     BV       459000000.0   9.464000e+08   \n",
       "1303                   Black Panther     BV       700100000.0   6.469000e+08   \n",
       "1304  Jurassic World: Fallen Kingdom   Uni.       417700000.0   8.918000e+08   \n",
       "520                           Frozen     BV       400700000.0   8.757000e+08   \n",
       "1305                   Incredibles 2     BV       608600000.0   6.342000e+08   \n",
       "1170         The Fate of the Furious   Uni.       226000000.0   1.010000e+09   \n",
       "523                       Iron Man 3     BV       409000000.0   8.058000e+08   \n",
       "\n",
       "      production_budget  worldwide_gross  runtime_minutes  numvotes  \n",
       "1302          300000000     2.048300e+09            149.0    670926  \n",
       "824           215000000     1.669900e+09            124.0    539338  \n",
       "825           190000000     1.516000e+09            137.0    335074  \n",
       "826           330600000     1.405400e+09            141.0    665594  \n",
       "1303          200000000     1.347000e+09            134.0    516148  \n",
       "1304          170000000     1.309500e+09            128.0    219125  \n",
       "520           150000000     1.276400e+09             93.0     62311  \n",
       "1305          200000000     1.242800e+09            118.0    203510  \n",
       "1170          250000000     1.236000e+09            136.0    179774  \n",
       "523           200000000     1.214800e+09            130.0    692794  "
      ]
     },
     "execution_count": 241,
     "metadata": {},
     "output_type": "execute_result"
    }
   ],
   "source": [
    "top_10_num"
   ]
  },
  {
   "cell_type": "code",
   "execution_count": 242,
   "metadata": {},
   "outputs": [
    {
     "ename": "ValueError",
     "evalue": "shape mismatch: objects cannot be broadcast to a single shape.  Mismatch is between arg 2 with shape (18,) and arg 3 with shape (2009,).",
     "output_type": "error",
     "traceback": [
      "\u001b[0;31m---------------------------------------------------------------------------\u001b[0m",
      "\u001b[0;31mValueError\u001b[0m                                Traceback (most recent call last)",
      "Cell \u001b[0;32mIn[242], line 7\u001b[0m\n\u001b[1;32m      3\u001b[0m fig, ax \u001b[38;5;241m=\u001b[39m plt\u001b[38;5;241m.\u001b[39msubplots()\n\u001b[1;32m      5\u001b[0m genre_name \u001b[38;5;241m=\u001b[39m top_genres\u001b[38;5;241m.\u001b[39mindex\n\u001b[0;32m----> 7\u001b[0m ax\u001b[38;5;241m.\u001b[39mbarh(genre_name,\u001b[38;5;28mlist\u001b[39m(top_genres), color \u001b[38;5;241m=\u001b[39m colors)\n\u001b[1;32m      8\u001b[0m ax\u001b[38;5;241m.\u001b[39mset_xlabel(\u001b[38;5;124m'\u001b[39m\u001b[38;5;124mAmount of Movies\u001b[39m\u001b[38;5;124m'\u001b[39m)\n\u001b[1;32m      9\u001b[0m ax\u001b[38;5;241m.\u001b[39mset_ylabel(\u001b[38;5;124m'\u001b[39m\u001b[38;5;124mCombination of Genres\u001b[39m\u001b[38;5;124m'\u001b[39m)\n",
      "File \u001b[0;32m~/anaconda3/lib/python3.11/site-packages/matplotlib/axes/_axes.py:2649\u001b[0m, in \u001b[0;36mAxes.barh\u001b[0;34m(self, y, width, height, left, align, data, **kwargs)\u001b[0m\n\u001b[1;32m   2539\u001b[0m \u001b[38;5;250m\u001b[39m\u001b[38;5;124mr\u001b[39m\u001b[38;5;124;03m\"\"\"\u001b[39;00m\n\u001b[1;32m   2540\u001b[0m \u001b[38;5;124;03mMake a horizontal bar plot.\u001b[39;00m\n\u001b[1;32m   2541\u001b[0m \n\u001b[0;32m   (...)\u001b[0m\n\u001b[1;32m   2646\u001b[0m \u001b[38;5;124;03m:doc:`/gallery/lines_bars_and_markers/horizontal_barchart_distribution`.\u001b[39;00m\n\u001b[1;32m   2647\u001b[0m \u001b[38;5;124;03m\"\"\"\u001b[39;00m\n\u001b[1;32m   2648\u001b[0m kwargs\u001b[38;5;241m.\u001b[39msetdefault(\u001b[38;5;124m'\u001b[39m\u001b[38;5;124morientation\u001b[39m\u001b[38;5;124m'\u001b[39m, \u001b[38;5;124m'\u001b[39m\u001b[38;5;124mhorizontal\u001b[39m\u001b[38;5;124m'\u001b[39m)\n\u001b[0;32m-> 2649\u001b[0m patches \u001b[38;5;241m=\u001b[39m \u001b[38;5;28mself\u001b[39m\u001b[38;5;241m.\u001b[39mbar(x\u001b[38;5;241m=\u001b[39mleft, height\u001b[38;5;241m=\u001b[39mheight, width\u001b[38;5;241m=\u001b[39mwidth, bottom\u001b[38;5;241m=\u001b[39my,\n\u001b[1;32m   2650\u001b[0m                    align\u001b[38;5;241m=\u001b[39malign, data\u001b[38;5;241m=\u001b[39mdata, \u001b[38;5;241m*\u001b[39m\u001b[38;5;241m*\u001b[39mkwargs)\n\u001b[1;32m   2651\u001b[0m \u001b[38;5;28;01mreturn\u001b[39;00m patches\n",
      "File \u001b[0;32m~/anaconda3/lib/python3.11/site-packages/matplotlib/__init__.py:1442\u001b[0m, in \u001b[0;36m_preprocess_data.<locals>.inner\u001b[0;34m(ax, data, *args, **kwargs)\u001b[0m\n\u001b[1;32m   1439\u001b[0m \u001b[38;5;129m@functools\u001b[39m\u001b[38;5;241m.\u001b[39mwraps(func)\n\u001b[1;32m   1440\u001b[0m \u001b[38;5;28;01mdef\u001b[39;00m \u001b[38;5;21minner\u001b[39m(ax, \u001b[38;5;241m*\u001b[39margs, data\u001b[38;5;241m=\u001b[39m\u001b[38;5;28;01mNone\u001b[39;00m, \u001b[38;5;241m*\u001b[39m\u001b[38;5;241m*\u001b[39mkwargs):\n\u001b[1;32m   1441\u001b[0m     \u001b[38;5;28;01mif\u001b[39;00m data \u001b[38;5;129;01mis\u001b[39;00m \u001b[38;5;28;01mNone\u001b[39;00m:\n\u001b[0;32m-> 1442\u001b[0m         \u001b[38;5;28;01mreturn\u001b[39;00m func(ax, \u001b[38;5;241m*\u001b[39m\u001b[38;5;28mmap\u001b[39m(sanitize_sequence, args), \u001b[38;5;241m*\u001b[39m\u001b[38;5;241m*\u001b[39mkwargs)\n\u001b[1;32m   1444\u001b[0m     bound \u001b[38;5;241m=\u001b[39m new_sig\u001b[38;5;241m.\u001b[39mbind(ax, \u001b[38;5;241m*\u001b[39margs, \u001b[38;5;241m*\u001b[39m\u001b[38;5;241m*\u001b[39mkwargs)\n\u001b[1;32m   1445\u001b[0m     auto_label \u001b[38;5;241m=\u001b[39m (bound\u001b[38;5;241m.\u001b[39marguments\u001b[38;5;241m.\u001b[39mget(label_namer)\n\u001b[1;32m   1446\u001b[0m                   \u001b[38;5;129;01mor\u001b[39;00m bound\u001b[38;5;241m.\u001b[39mkwargs\u001b[38;5;241m.\u001b[39mget(label_namer))\n",
      "File \u001b[0;32m~/anaconda3/lib/python3.11/site-packages/matplotlib/axes/_axes.py:2417\u001b[0m, in \u001b[0;36mAxes.bar\u001b[0;34m(self, x, height, width, bottom, align, **kwargs)\u001b[0m\n\u001b[1;32m   2414\u001b[0m     \u001b[38;5;28;01mif\u001b[39;00m yerr \u001b[38;5;129;01mis\u001b[39;00m \u001b[38;5;129;01mnot\u001b[39;00m \u001b[38;5;28;01mNone\u001b[39;00m:\n\u001b[1;32m   2415\u001b[0m         yerr \u001b[38;5;241m=\u001b[39m \u001b[38;5;28mself\u001b[39m\u001b[38;5;241m.\u001b[39m_convert_dx(yerr, y0, y, \u001b[38;5;28mself\u001b[39m\u001b[38;5;241m.\u001b[39mconvert_yunits)\n\u001b[0;32m-> 2417\u001b[0m x, height, width, y, linewidth, hatch \u001b[38;5;241m=\u001b[39m np\u001b[38;5;241m.\u001b[39mbroadcast_arrays(\n\u001b[1;32m   2418\u001b[0m     \u001b[38;5;66;03m# Make args iterable too.\u001b[39;00m\n\u001b[1;32m   2419\u001b[0m     np\u001b[38;5;241m.\u001b[39matleast_1d(x), height, width, y, linewidth, hatch)\n\u001b[1;32m   2421\u001b[0m \u001b[38;5;66;03m# Now that units have been converted, set the tick locations.\u001b[39;00m\n\u001b[1;32m   2422\u001b[0m \u001b[38;5;28;01mif\u001b[39;00m orientation \u001b[38;5;241m==\u001b[39m \u001b[38;5;124m'\u001b[39m\u001b[38;5;124mvertical\u001b[39m\u001b[38;5;124m'\u001b[39m:\n",
      "File \u001b[0;32m<__array_function__ internals>:200\u001b[0m, in \u001b[0;36mbroadcast_arrays\u001b[0;34m(*args, **kwargs)\u001b[0m\n",
      "File \u001b[0;32m~/anaconda3/lib/python3.11/site-packages/numpy/lib/stride_tricks.py:540\u001b[0m, in \u001b[0;36mbroadcast_arrays\u001b[0;34m(subok, *args)\u001b[0m\n\u001b[1;32m    533\u001b[0m \u001b[38;5;66;03m# nditer is not used here to avoid the limit of 32 arrays.\u001b[39;00m\n\u001b[1;32m    534\u001b[0m \u001b[38;5;66;03m# Otherwise, something like the following one-liner would suffice:\u001b[39;00m\n\u001b[1;32m    535\u001b[0m \u001b[38;5;66;03m# return np.nditer(args, flags=['multi_index', 'zerosize_ok'],\u001b[39;00m\n\u001b[1;32m    536\u001b[0m \u001b[38;5;66;03m#                  order='C').itviews\u001b[39;00m\n\u001b[1;32m    538\u001b[0m args \u001b[38;5;241m=\u001b[39m [np\u001b[38;5;241m.\u001b[39marray(_m, copy\u001b[38;5;241m=\u001b[39m\u001b[38;5;28;01mFalse\u001b[39;00m, subok\u001b[38;5;241m=\u001b[39msubok) \u001b[38;5;28;01mfor\u001b[39;00m _m \u001b[38;5;129;01min\u001b[39;00m args]\n\u001b[0;32m--> 540\u001b[0m shape \u001b[38;5;241m=\u001b[39m _broadcast_shape(\u001b[38;5;241m*\u001b[39margs)\n\u001b[1;32m    542\u001b[0m \u001b[38;5;28;01mif\u001b[39;00m \u001b[38;5;28mall\u001b[39m(array\u001b[38;5;241m.\u001b[39mshape \u001b[38;5;241m==\u001b[39m shape \u001b[38;5;28;01mfor\u001b[39;00m array \u001b[38;5;129;01min\u001b[39;00m args):\n\u001b[1;32m    543\u001b[0m     \u001b[38;5;66;03m# Common case where nothing needs to be broadcasted.\u001b[39;00m\n\u001b[1;32m    544\u001b[0m     \u001b[38;5;28;01mreturn\u001b[39;00m args\n",
      "File \u001b[0;32m~/anaconda3/lib/python3.11/site-packages/numpy/lib/stride_tricks.py:422\u001b[0m, in \u001b[0;36m_broadcast_shape\u001b[0;34m(*args)\u001b[0m\n\u001b[1;32m    417\u001b[0m \u001b[38;5;250m\u001b[39m\u001b[38;5;124;03m\"\"\"Returns the shape of the arrays that would result from broadcasting the\u001b[39;00m\n\u001b[1;32m    418\u001b[0m \u001b[38;5;124;03msupplied arrays against each other.\u001b[39;00m\n\u001b[1;32m    419\u001b[0m \u001b[38;5;124;03m\"\"\"\u001b[39;00m\n\u001b[1;32m    420\u001b[0m \u001b[38;5;66;03m# use the old-iterator because np.nditer does not handle size 0 arrays\u001b[39;00m\n\u001b[1;32m    421\u001b[0m \u001b[38;5;66;03m# consistently\u001b[39;00m\n\u001b[0;32m--> 422\u001b[0m b \u001b[38;5;241m=\u001b[39m np\u001b[38;5;241m.\u001b[39mbroadcast(\u001b[38;5;241m*\u001b[39margs[:\u001b[38;5;241m32\u001b[39m])\n\u001b[1;32m    423\u001b[0m \u001b[38;5;66;03m# unfortunately, it cannot handle 32 or more arguments directly\u001b[39;00m\n\u001b[1;32m    424\u001b[0m \u001b[38;5;28;01mfor\u001b[39;00m pos \u001b[38;5;129;01min\u001b[39;00m \u001b[38;5;28mrange\u001b[39m(\u001b[38;5;241m32\u001b[39m, \u001b[38;5;28mlen\u001b[39m(args), \u001b[38;5;241m31\u001b[39m):\n\u001b[1;32m    425\u001b[0m     \u001b[38;5;66;03m# ironically, np.broadcast does not properly handle np.broadcast\u001b[39;00m\n\u001b[1;32m    426\u001b[0m     \u001b[38;5;66;03m# objects (it treats them as scalars)\u001b[39;00m\n\u001b[1;32m    427\u001b[0m     \u001b[38;5;66;03m# use broadcasting to avoid allocating the full array\u001b[39;00m\n",
      "\u001b[0;31mValueError\u001b[0m: shape mismatch: objects cannot be broadcast to a single shape.  Mismatch is between arg 2 with shape (18,) and arg 3 with shape (2009,)."
     ]
    },
    {
     "data": {
      "image/png": "[encoded data removed]",
      "text/plain": [
       "<Figure size 640x480 with 1 Axes>"
      ]
     },
     "metadata": {},
     "output_type": "display_data"
    }
   ],
   "source": [
    "# I selected the top 10 genres to establish a foundational understanding of the most prolific genres in terms of production, \n",
    "# with the potential to create a blockbuster hit.\n",
    "fig, ax = plt.subplots()\n",
    "\n",
    "genre_name = top_genres.index\n",
    "\n",
    "ax.barh(genre_name,list(top_genres), color = colors)\n",
    "ax.set_xlabel('Amount of Movies')\n",
    "ax.set_ylabel('Combination of Genres')\n",
    "ax.set_title('The Genres of Box Office Hits 2010-2018')\n",
    "\n",
    "plt.savefig(\".\\image\\genres_bar.png\", dpi = 150, bbox_inches = 'tight')\n",
    "\n",
    "plt.show()"
   ]
  },
  {
   "cell_type": "code",
   "execution_count": 243,
   "metadata": {},
   "outputs": [
    {
     "data": {
      "image/png": "[encoded data removed]",
      "text/plain": [
       "<Figure size 640x480 with 1 Axes>"
      ]
     },
     "metadata": {},
     "output_type": "display_data"
    }
   ],
   "source": [
    "# I chose the top 10 to determine if there are existing affiliations or partnerships with them,\n",
    "# which could lead to potential collaborations in creating new, original content.\n",
    "fig, ax = plt.subplots()\n",
    "\n",
    "studio_name = ['Universal','Fox','Sony','WB','Paramount','Buena Vista',\"Lion's Gate\",'20th Century','Warner Bros (NL)','Weinstein']\n",
    "\n",
    "ax.barh(studio_name,list(top_studios), color = colors)\n",
    "ax.set_xlabel('Amount of Movies Produced per Studio')\n",
    "ax.set_ylabel('Name of Studios')\n",
    "ax.set_title('The Amount of Studios that Box Office Hits')\n",
    "\n",
    "plt.savefig(\".\\image\\studio_bar.png\", dpi = 150, bbox_inches = 'tight')\n",
    "\n",
    "plt.show()"
   ]
  },
  {
   "cell_type": "code",
   "execution_count": 244,
   "metadata": {
    "scrolled": true
   },
   "outputs": [
    {
     "data": {
      "image/png": "[encoded data removed]",
      "text/plain": [
       "<Figure size 1000x600 with 1 Axes>"
      ]
     },
     "metadata": {},
     "output_type": "display_data"
    }
   ],
   "source": [
    "# Here is a breakdown of the number of movies and their typical runtime,\n",
    "# which could influence viewers' decisions to watch these films\n",
    "sns.set(style=\"darkgrid\")\n",
    "\n",
    "plt.figure(figsize=(10, 6))  # Adjust the figure size if needed\n",
    "sns.lineplot(x=sorted(blockbusters_df['runtime_minutes']), y=range(len(blockbusters_df)), marker='o')\n",
    "\n",
    "plt.xlabel('Number of Minutes')\n",
    "plt.ylabel('Amount of Movies')\n",
    "plt.title('The Amount of Box Office Hits')\n",
    "\n",
    "\n",
    "plt.savefig(\"numberminutes_line_seaborn.png\", dpi=500, bbox_inches='tight')\n",
    "\n",
    "plt.show()\n"
   ]
  },
  {
   "cell_type": "code",
   "execution_count": 245,
   "metadata": {
    "scrolled": true
   },
   "outputs": [
    {
     "data": {
      "image/png": "[encoded data removed]",
      "text/plain": [
       "<Figure size 640x480 with 1 Axes>"
      ]
     },
     "metadata": {},
     "output_type": "display_data"
    }
   ],
   "source": [
    "# Here is the chart displaying the production budget of the top 10 box office hits.\n",
    "\n",
    "fig, ax = plt.subplots()\n",
    "\n",
    "ax.barh(top_10_num_sorted['title'] ,list(top_10_num_sorted['production_budget']/1000000), color = colors)\n",
    "ax.set_xlabel('$ per millions')\n",
    "ax.set_title('The Production Budget of Top 10 Box Office Hits')\n",
    "\n",
    "plt.savefig(\".\\image\\production_budget_bar.png\", dpi = 150, bbox_inches = 'tight')\n",
    "\n",
    "plt.show()"
   ]
  },
  {
   "cell_type": "code",
   "execution_count": 246,
   "metadata": {},
   "outputs": [
    {
     "data": {
      "image/png": "[encoded data removed]",
      "text/plain": [
       "<Figure size 640x480 with 1 Axes>"
      ]
     },
     "metadata": {},
     "output_type": "display_data"
    }
   ],
   "source": [
    "# Here is a chart that illustrates which titles generated the highest revenue.\n",
    "fig, ax = plt.subplots()\n",
    "\n",
    "ax.barh(top_10_num['title'] ,list(top_10_num['worldwide_gross']/100000000), color = colors)\n",
    "ax.set_xlabel('$ per 100 millions')\n",
    "ax.set_title('Top 10 Worldwide Gross of Box Office')\n",
    "\n",
    "plt.savefig(\".\\image\\worldwide_gross_bar.png\", dpi = 150, bbox_inches = 'tight')\n",
    "\n",
    "plt.show()"
   ]
  },
  {
   "cell_type": "markdown",
   "metadata": {},
   "source": [
    "## Evaluation\n",
    "Assess the effectiveness of your work in addressing the specified business problem.\n",
    "***\n",
    "### Questions \n",
    "\n",
    "1. How do you analyze the outcomes?\n",
    "2. How effectively does your model align with the data?\n",
    "3. To what extent does it outperform the baseline model?\n",
    "4. How assured are you of the model's ability to generalize beyond the available data?\n",
    "5. How convinced are you that implementing this model would be advantageous for the business?\n",
    "\n",
    "***\n",
    "\n",
    "Based on the provided data, we have valuable information to work with. We have insights into successful genres, optimal runtime, and an estimated production budget, which can help us approach the goal of achieving a position among the top 10 highest-grossing movies worldwide. I am confident that this data can serve as a helpful guide for creating a potential blockbuster hit."
   ]
  },
  {
   "cell_type": "markdown",
   "metadata": {},
   "source": [
    "## Conclusion \n",
    "Share your final remarks on the project, encompassing findings, constraints, and potential future actions.\n",
    "***\n",
    "\n",
    "1. What actions would you suggest the company take based on the outcomes of this project?\n",
    "2. What are some factors that could limit the comprehensiveness of your analysis in addressing the business challenge?\n",
    "3. What potential enhancements or strategies could be considered for future iterations of this project?\n",
    "***\n",
    "\n",
    "\n",
    "Based on this analysis, we propose three recommendations for Microsoft's movie studio's inaugural blockbuster film:\n",
    "\n",
    "* Develop a superhero-themed movie that combines elements of adventure, animation, and comedy (e.g., like \"Frozen\") or action, adventure, and sci-fi (e.g., akin to \"Iron Man 3\"). These genres consistently perform well at the box office, with five of the top ten worldwide gross earners falling into the superhero category.\n",
    "\n",
    "* Consider forming strategic partnerships with established studios like Universal Pictures or 20th Century Fox, renowned for their extensive experience in film production and their track record of producing successful blockbusters.\n",
    "\n",
    "* Aim for a movie duration within the 90-110 minute range and allocate a production budget in the range of 150 million to 300 million, which represents a reasonable maximum benchmark for investment."
   ]
  },
  {
   "cell_type": "markdown",
   "metadata": {},
   "source": [
    "## Business Recommendations\n",
    "***\n",
    "\n",
    "Future considerations involve the acquisition of additional data to assess the impact of influential directors, actors, and other crew members on the potential for blockbuster success.\n",
    "\n",
    "Furthermore, we should explore predictive models for production delays that may impact the budget.\n",
    "\n",
    "In addition, it's essential to maintain a proactive approach towards industry trends, ensuring timely adoption to capitalize on emerging concepts before their novelty diminishes. Given the time required for movie production, sustained relevance is critical for maximizing profits."
   ]
  }
 ],
 "metadata": {
  "kernelspec": {
   "display_name": "Python 3 (ipykernel)",
   "language": "python",
   "name": "python3"
  },
  "language_info": {
   "codemirror_mode": {
    "name": "ipython",
    "version": 3
   },
   "file_extension": ".py",
   "mimetype": "text/x-python",
   "name": "python",
   "nbconvert_exporter": "python",
   "pygments_lexer": "ipython3",
   "version": "3.11.4"
  }
 },
 "nbformat": 4,
 "nbformat_minor": 2
}
